{
 "cells": [
  {
   "cell_type": "code",
   "execution_count": 1,
   "id": "61ff0597",
   "metadata": {},
   "outputs": [],
   "source": [
    "import pandas as pd\n",
    "import matplotlib.pyplot as plt"
   ]
  },
  {
   "cell_type": "code",
   "execution_count": 2,
   "id": "3373430c",
   "metadata": {},
   "outputs": [],
   "source": [
    "df = pd.read_csv('../../Datasets/Digit_Recognizer/train.csv/train.csv')"
   ]
  },
  {
   "cell_type": "code",
   "execution_count": 3,
   "id": "1aa128ff",
   "metadata": {},
   "outputs": [
    {
     "data": {
      "text/plain": [
       "(42000, 785)"
      ]
     },
     "execution_count": 3,
     "metadata": {},
     "output_type": "execute_result"
    }
   ],
   "source": [
    "df.shape"
   ]
  },
  {
   "cell_type": "code",
   "execution_count": 4,
   "id": "0f7b6eaa",
   "metadata": {},
   "outputs": [],
   "source": [
    "y = df['label']"
   ]
  },
  {
   "cell_type": "code",
   "execution_count": 5,
   "id": "0ccd31ad",
   "metadata": {},
   "outputs": [],
   "source": [
    "X = df.drop('label',axis=1)"
   ]
  },
  {
   "cell_type": "code",
   "execution_count": 6,
   "id": "c3f724fc",
   "metadata": {},
   "outputs": [],
   "source": [
    "X = X/255"
   ]
  },
  {
   "cell_type": "code",
   "execution_count": 7,
   "id": "cb61018f",
   "metadata": {},
   "outputs": [
    {
     "data": {
      "text/plain": [
       "(42000, 784)"
      ]
     },
     "execution_count": 7,
     "metadata": {},
     "output_type": "execute_result"
    }
   ],
   "source": [
    "X.shape"
   ]
  },
  {
   "cell_type": "code",
   "execution_count": 8,
   "id": "059b01b7",
   "metadata": {},
   "outputs": [],
   "source": [
    "X_train = X.values.reshape(42000, 28,28,1)"
   ]
  },
  {
   "cell_type": "code",
   "execution_count": 9,
   "id": "d700ea23",
   "metadata": {},
   "outputs": [
    {
     "data": {
      "text/plain": [
       "(42000, 28, 28, 1)"
      ]
     },
     "execution_count": 9,
     "metadata": {},
     "output_type": "execute_result"
    }
   ],
   "source": [
    "X_train.shape"
   ]
  },
  {
   "cell_type": "code",
   "execution_count": 10,
   "id": "9940e7ff",
   "metadata": {},
   "outputs": [],
   "source": [
    "from tensorflow.keras.utils import to_categorical\n",
    "y_train = to_categorical(y,num_classes=10)"
   ]
  },
  {
   "cell_type": "code",
   "execution_count": 14,
   "id": "d781bc7d",
   "metadata": {},
   "outputs": [],
   "source": [
    "from tensorflow.keras.models import Sequential\n",
    "from tensorflow.keras.layers import Conv2D, MaxPool2D, Flatten, Dense"
   ]
  },
  {
   "cell_type": "code",
   "execution_count": 15,
   "id": "9057bed0",
   "metadata": {},
   "outputs": [],
   "source": [
    "model = Sequential()\n",
    "model.add(Conv2D(16,(3,3),activation='relu',input_shape=(28, 28, 1)))\n",
    "model.add(MaxPool2D())\n",
    "model.add(Conv2D(32,(3,3),activation='relu'))\n",
    "model.add(MaxPool2D())\n",
    "model.add(Flatten())\n",
    "model.add(Dense(10,activation='softmax'))\n",
    "\n",
    "model.compile(optimizer='adam',loss='categorical_crossentropy',metrics=['accuracy'])"
   ]
  },
  {
   "cell_type": "code",
   "execution_count": 16,
   "id": "060d89da",
   "metadata": {},
   "outputs": [
    {
     "name": "stdout",
     "output_type": "stream",
     "text": [
      "Epoch 1/30\n",
      "657/657 [==============================] - 12s 16ms/step - loss: 0.3201 - accuracy: 0.9087\n",
      "Epoch 2/30\n",
      "657/657 [==============================] - 9s 13ms/step - loss: 0.0882 - accuracy: 0.9730\n",
      "Epoch 3/30\n",
      "657/657 [==============================] - 8s 13ms/step - loss: 0.0667 - accuracy: 0.9790\n",
      "Epoch 4/30\n",
      "657/657 [==============================] - 8s 13ms/step - loss: 0.0538 - accuracy: 0.9835\n",
      "Epoch 5/30\n",
      "657/657 [==============================] - 8s 13ms/step - loss: 0.0456 - accuracy: 0.9861\n",
      "Epoch 6/30\n",
      "657/657 [==============================] - 8s 13ms/step - loss: 0.0406 - accuracy: 0.9869\n",
      "Epoch 7/30\n",
      "657/657 [==============================] - 9s 13ms/step - loss: 0.0357 - accuracy: 0.9888\n",
      "Epoch 8/30\n",
      "657/657 [==============================] - 9s 14ms/step - loss: 0.0313 - accuracy: 0.9903\n",
      "Epoch 9/30\n",
      "657/657 [==============================] - 9s 14ms/step - loss: 0.0279 - accuracy: 0.9909\n",
      "Epoch 10/30\n",
      "657/657 [==============================] - 9s 13ms/step - loss: 0.0256 - accuracy: 0.9919\n",
      "Epoch 11/30\n",
      "657/657 [==============================] - 8s 13ms/step - loss: 0.0220 - accuracy: 0.9932\n",
      "Epoch 12/30\n",
      "657/657 [==============================] - 9s 13ms/step - loss: 0.0211 - accuracy: 0.9934\n",
      "Epoch 13/30\n",
      "657/657 [==============================] - 9s 13ms/step - loss: 0.0172 - accuracy: 0.9947\n",
      "Epoch 14/30\n",
      "657/657 [==============================] - 9s 13ms/step - loss: 0.0158 - accuracy: 0.9950\n",
      "Epoch 15/30\n",
      "657/657 [==============================] - 9s 13ms/step - loss: 0.0140 - accuracy: 0.9956\n",
      "Epoch 16/30\n",
      "657/657 [==============================] - 9s 14ms/step - loss: 0.0128 - accuracy: 0.9960\n",
      "Epoch 17/30\n",
      "657/657 [==============================] - 9s 13ms/step - loss: 0.0107 - accuracy: 0.9967\n",
      "Epoch 18/30\n",
      "657/657 [==============================] - 9s 13ms/step - loss: 0.0095 - accuracy: 0.9972\n",
      "Epoch 19/30\n",
      "657/657 [==============================] - 9s 13ms/step - loss: 0.0085 - accuracy: 0.9972\n",
      "Epoch 20/30\n",
      "657/657 [==============================] - 9s 13ms/step - loss: 0.0088 - accuracy: 0.9971\n",
      "Epoch 21/30\n",
      "657/657 [==============================] - 9s 13ms/step - loss: 0.0069 - accuracy: 0.9978\n",
      "Epoch 22/30\n",
      "657/657 [==============================] - 9s 14ms/step - loss: 0.0057 - accuracy: 0.9985\n",
      "Epoch 23/30\n",
      "657/657 [==============================] - 9s 14ms/step - loss: 0.0064 - accuracy: 0.9980\n",
      "Epoch 24/30\n",
      "657/657 [==============================] - 9s 14ms/step - loss: 0.0061 - accuracy: 0.9980\n",
      "Epoch 25/30\n",
      "657/657 [==============================] - 9s 13ms/step - loss: 0.0051 - accuracy: 0.9983\n",
      "Epoch 26/30\n",
      "657/657 [==============================] - 9s 14ms/step - loss: 0.0039 - accuracy: 0.9989\n",
      "Epoch 27/30\n",
      "657/657 [==============================] - 9s 14ms/step - loss: 0.0031 - accuracy: 0.9990\n",
      "Epoch 28/30\n",
      "657/657 [==============================] - 9s 14ms/step - loss: 0.0046 - accuracy: 0.9986\n",
      "Epoch 29/30\n",
      "657/657 [==============================] - 9s 14ms/step - loss: 0.0036 - accuracy: 0.9989\n",
      "Epoch 30/30\n",
      "657/657 [==============================] - 9s 14ms/step - loss: 0.0035 - accuracy: 0.9989\n"
     ]
    }
   ],
   "source": [
    "hist = model.fit(X_train,y_train,epochs=30,batch_size=64)"
   ]
  },
  {
   "cell_type": "code",
   "execution_count": 17,
   "id": "b53ab3ce",
   "metadata": {},
   "outputs": [],
   "source": [
    "import cv2\n",
    "def predict_digit(path):\n",
    "    A = cv2.imread(path,0)\n",
    "    B = cv2.resize(A,(28,28))\n",
    "    C = B/255\n",
    "    yp = model.predict_on_batch(C.reshape(1,28,28,1))\n",
    "    return yp.argmax()"
   ]
  },
  {
   "cell_type": "code",
   "execution_count": 18,
   "id": "7d752e6c",
   "metadata": {},
   "outputs": [
    {
     "data": {
      "text/plain": [
       "0"
      ]
     },
     "execution_count": 18,
     "metadata": {},
     "output_type": "execute_result"
    }
   ],
   "source": [
    "predict_digit('../../Datasets/Digit_Recognizer/images/0.jpg')"
   ]
  },
  {
   "cell_type": "code",
   "execution_count": 22,
   "id": "e00c5854",
   "metadata": {},
   "outputs": [
    {
     "name": "stdout",
     "output_type": "stream",
     "text": [
      "../../Datasets/Digit_Recognizer/images0.jpg\n",
      "../../Datasets/Digit_Recognizer/images00.jpg\n",
      "../../Datasets/Digit_Recognizer/images1.jpg\n",
      "../../Datasets/Digit_Recognizer/images11.jpg\n",
      "../../Datasets/Digit_Recognizer/images2.jpg\n",
      "../../Datasets/Digit_Recognizer/images22.jpg\n",
      "../../Datasets/Digit_Recognizer/images3.jpg\n",
      "../../Datasets/Digit_Recognizer/images33.jpg\n",
      "../../Datasets/Digit_Recognizer/images4.jpg\n",
      "../../Datasets/Digit_Recognizer/images44.jpg\n",
      "../../Datasets/Digit_Recognizer/images5.jpg\n",
      "../../Datasets/Digit_Recognizer/images55.jpg\n",
      "../../Datasets/Digit_Recognizer/images6.jpg\n",
      "../../Datasets/Digit_Recognizer/images66.jpg\n",
      "../../Datasets/Digit_Recognizer/images7.jpg\n",
      "../../Datasets/Digit_Recognizer/images77.jpg\n",
      "../../Datasets/Digit_Recognizer/images8.jpg\n",
      "../../Datasets/Digit_Recognizer/images88.jpg\n",
      "../../Datasets/Digit_Recognizer/images9.jpg\n",
      "../../Datasets/Digit_Recognizer/images99.jpg\n"
     ]
    }
   ],
   "source": [
    "import os\n",
    "filenames = os.listdir('../../Datasets/Digit_Recognizer/images/')\n",
    "for filename in filenames:\n",
    "    print('../../Datasets/Digit_Recognizer/images'+filename)"
   ]
  },
  {
   "cell_type": "code",
   "execution_count": 23,
   "id": "ba1ef9d7",
   "metadata": {},
   "outputs": [
    {
     "name": "stdout",
     "output_type": "stream",
     "text": [
      "0.jpg 0\n",
      "00.jpg 0\n",
      "1.jpg 1\n",
      "11.jpg 1\n",
      "2.jpg 2\n",
      "22.jpg 2\n",
      "3.jpg 3\n",
      "33.jpg 3\n",
      "4.jpg 4\n",
      "44.jpg 4\n",
      "5.jpg 5\n",
      "55.jpg 5\n",
      "6.jpg 6\n",
      "66.jpg 6\n",
      "7.jpg 7\n",
      "77.jpg 7\n",
      "8.jpg 8\n",
      "88.jpg 8\n",
      "9.jpg 3\n",
      "99.jpg 3\n"
     ]
    }
   ],
   "source": [
    "for filename in filenames:\n",
    "    output = predict_digit('../../Datasets/Digit_Recognizer/images/'+filename)\n",
    "    print(filename, output)"
   ]
  },
  {
   "cell_type": "code",
   "execution_count": null,
   "id": "dabd4508",
   "metadata": {},
   "outputs": [],
   "source": []
  }
 ],
 "metadata": {
  "kernelspec": {
   "display_name": "Python [conda env:dsml20_env1]",
   "language": "python",
   "name": "conda-env-dsml20_env1-py"
  },
  "language_info": {
   "codemirror_mode": {
    "name": "ipython",
    "version": 3
   },
   "file_extension": ".py",
   "mimetype": "text/x-python",
   "name": "python",
   "nbconvert_exporter": "python",
   "pygments_lexer": "ipython3",
   "version": "3.9.16"
  }
 },
 "nbformat": 4,
 "nbformat_minor": 5
}
